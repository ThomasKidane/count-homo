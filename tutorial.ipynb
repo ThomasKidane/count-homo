{
 "cells": [
  {
   "cell_type": "code",
   "execution_count": 1,
   "id": "96de3206-dee2-485f-b558-f7a539261a92",
   "metadata": {},
   "outputs": [],
   "source": [
    "# Import necessary classes and functions\n",
    "from counthomo import WeightedGraph, count_homomorphisms"
   ]
  },
  {
   "cell_type": "code",
   "execution_count": 2,
   "id": "a9a338e6-1ed9-41ad-b06d-e747f42a280c",
   "metadata": {},
   "outputs": [
    {
     "name": "stdout",
     "output_type": "stream",
     "text": [
      "Graph F (default node weights):\n",
      "Node weights: {0: Decimal('1'), 1: Decimal('1')}\n",
      "Edge weights: {0: {1: Decimal('1.0')}, 1: {0: Decimal('0.5')}}\n"
     ]
    }
   ],
   "source": [
    "# Example 1: Defining a simple weighted graph with default node weights\n",
    "edge_weights_f = {\n",
    "    0: {1: 1.0},\n",
    "    1: {0: 0.5}\n",
    "}\n",
    "F = WeightedGraph(edge_weights=edge_weights_f)\n",
    "\n",
    "print(\"Graph F (default node weights):\")\n",
    "print(\"Node weights:\", F.node_weights)\n",
    "print(\"Edge weights:\", F.edge_weights)"
   ]
  },
  {
   "cell_type": "code",
   "execution_count": 3,
   "id": "4c5cf6f8-3c98-4973-ac59-c9601ea1aa20",
   "metadata": {},
   "outputs": [
    {
     "name": "stdout",
     "output_type": "stream",
     "text": [
      "\n",
      "Graph G (specified node weights):\n",
      "Node weights: {0: Decimal('2.0'), 1: Decimal('1.5')}\n",
      "Edge weights: {0: {0: Decimal('1.0'), 1: Decimal('2.0')}, 1: {0: Decimal('0.5'), 1: Decimal('1.0')}}\n"
     ]
    }
   ],
   "source": [
    "# Example 2: Defining a weighted graph with specified node weights\n",
    "edge_weights_g = {\n",
    "    0: {0: 1.0, 1: 2.0},\n",
    "    1: {0: 0.5, 1: 1.0}\n",
    "}\n",
    "node_weights_g = {\n",
    "    0: 2.0,\n",
    "    1: 1.5\n",
    "}\n",
    "G = WeightedGraph(edge_weights=edge_weights_g, node_weights=node_weights_g)\n",
    "\n",
    "print(\"\\nGraph G (specified node weights):\")\n",
    "print(\"Node weights:\", G.node_weights)\n",
    "print(\"Edge weights:\", G.edge_weights)"
   ]
  },
  {
   "cell_type": "code",
   "execution_count": 4,
   "id": "cf12c491-18f8-4fc6-a42c-1f332287e129",
   "metadata": {},
   "outputs": [
    {
     "name": "stdout",
     "output_type": "stream",
     "text": [
      "\n",
      "Homomorphism count (default precision): 12.61396103067892771960759926\n"
     ]
    }
   ],
   "source": [
    "# Example 3: Counting homomorphisms with default precision\n",
    "hom_count_default = count_homomorphisms(F, G)\n",
    "print(f\"\\nHomomorphism count (default precision): {hom_count_default}\")"
   ]
  },
  {
   "cell_type": "code",
   "execution_count": 5,
   "id": "51375157-e378-4f74-8b36-8615fcc86fe6",
   "metadata": {},
   "outputs": [
    {
     "name": "stdout",
     "output_type": "stream",
     "text": [
      "Homomorphism count (50 decimal places): 12.613961030678927719607599258943641353563523439196\n"
     ]
    }
   ],
   "source": [
    "# Example 4: Counting homomorphisms with specified precision (e.g., 50 decimal places)\n",
    "hom_count_high_precision = count_homomorphisms(F, G, precision=50)\n",
    "print(f\"Homomorphism count (50 decimal places): {hom_count_high_precision}\")"
   ]
  },
  {
   "cell_type": "code",
   "execution_count": 8,
   "id": "0795d6e1-1948-49d3-9966-0d220bfeb406",
   "metadata": {},
   "outputs": [
    {
     "name": "stdout",
     "output_type": "stream",
     "text": [
      "\n",
      "Using SageMath Graphs:\n",
      "Homomorphism count using SageMath graphs (default precision): 4.00\n"
     ]
    }
   ],
   "source": [
    "# Example 5: Using SageMath graphs (requires SageMath installation)\n",
    "try:\n",
    "    # from sage.all import Graph, DiGraph, WeightedGraph as SageWeightedGraph # Import necessary SageMath classes\n",
    "\n",
    "    # Create a SageMath weighted graph\n",
    "    sage_graph_f = Graph({0: {1: '1.0'}}, weighted=True)\n",
    "    sage_graph_f.set_edge_label(0, 1, '1.0')\n",
    "    sage_graph_f.set_vertex(0, {'weight': '1.0'}) # SageMath node weights might be handled differently, need to verify how they are stored if not on vertices directly.\n",
    "    sage_graph_f.set_vertex(1, {'weight': '1.0'})\n",
    "\n",
    "    sage_graph_g = DiGraph({0: {0: '1.0', 1: '2.0'}, 1: {0: '0.5', 1: '1.0'}}, weighted=True)\n",
    "    sage_graph_g.set_edge_label(0, 0, '1.0')\n",
    "    sage_graph_g.set_edge_label(0, 1, '2.0')\n",
    "    sage_graph_g.set_edge_label(1, 0, '0.5')\n",
    "    sage_graph_g.set_edge_label(1, 1, '1.0')\n",
    "    sage_graph_g.set_vertex(0, {'weight': '2.0'})\n",
    "    sage_graph_g.set_vertex(1, {'weight': '1.5'})\n",
    "\n",
    "    print(\"\\nUsing SageMath Graphs:\")\n",
    "    hom_count_sage = count_homomorphisms(sage_graph_f, sage_graph_g)\n",
    "    print(f\"Homomorphism count using SageMath graphs (default precision): {hom_count_sage}\")\n",
    "\n",
    "except ImportError:\n",
    "    print(\"\\nSageMath not found. Skipping SageMath examples.\")\n",
    "except Exception as e:\n",
    "    print(f\"An error occurred during SageMath example: {e}\")"
   ]
  },
  {
   "cell_type": "code",
   "execution_count": 2,
   "id": "ae8af9d4-584a-4708-988d-de0c11fe4f42",
   "metadata": {},
   "outputs": [],
   "source": [
    "from sage.all import *"
   ]
  },
  {
   "cell_type": "code",
   "execution_count": 12,
   "id": "4cc8e02b-b8ac-4172-a3f7-e387b3ef183a",
   "metadata": {},
   "outputs": [
    {
     "name": "stdout",
     "output_type": "stream",
     "text": [
      "\n",
      "Counting homomorphisms from Square to Three-Grid using customgraphhomo...\n",
      "Homomorphism count (default precision): 144\n",
      "Homomorphism count (50 decimal places): 144\n"
     ]
    }
   ],
   "source": [
    "\n",
    "# --- Original Demo Graphs using SageMath ---\n",
    "# Define the square graph (2x2 grid)\n",
    "square = graphs.Grid2dGraph(2, 2)\n",
    "# The relabel() and coloring information is not directly used by customgraphhomo\n",
    "# for weighted homomorphism counting, as it relies on node/edge weights.\n",
    "\n",
    "# Define the three-grid graph (3x3 grid)\n",
    "three_grid = graphs.Grid2dGraph(3, 3)\n",
    "\n",
    "# --- Count Homomorphisms using your custom library ---\n",
    "# Your count_homomorphisms function accepts SageMath graphs directly.\n",
    "# It will convert them to WeightedGraph internally, defaulting weights to 1.0.\n",
    "# Note: Your library counts weighted homomorphisms based on the provided\n",
    "# definitions (alpha and beta weights).\n",
    "print(\"\\nCounting homomorphisms from Square to Three-Grid using customgraphhomo...\")\n",
    "\n",
    "# Counting with default Decimal precision (typically 28 places)\n",
    "hom_count_default_precision = count_homomorphisms(square, three_grid)\n",
    "print(f\"Homomorphism count (default precision): {hom_count_default_precision}\")\n",
    "\n",
    "# Counting with higher precision (e.g., 50 places)\n",
    "hom_count_high_precision = count_homomorphisms(square, three_grid, precision=50)\n",
    "print(f\"Homomorphism count (50 decimal places): {hom_count_high_precision}\")"
   ]
  },
  {
   "cell_type": "code",
   "execution_count": 11,
   "id": "73e781bc-52f5-48bf-b4de-8efe4b6e12e1",
   "metadata": {
    "scrolled": true
   },
   "outputs": [
    {
     "name": "stdout",
     "output_type": "stream",
     "text": [
      "\n",
      "Counting homomorphisms from Square to K_2,4 using customgraphhomo...\n",
      "Homomorphism count (Square to K_2,4, default precision): 128\n",
      "Homomorphism count (Square to K_2,4, 50 decimal places): 128\n"
     ]
    }
   ],
   "source": [
    "# Define the complete bipartite graph K_2,4\n",
    "k2_4 = graphs.CompleteBipartiteGraph(2, 4)\n",
    "\n",
    "print(\"\\nCounting homomorphisms from Square to K_2,4 using customgraphhomo...\")\n",
    "\n",
    "# Counting with default Decimal precision\n",
    "hom_count_square_k2_4_default = count_homomorphisms(square, k2_4)\n",
    "print(f\"Homomorphism count (Square to K_2,4, default precision): {hom_count_square_k2_4_default}\")\n",
    "\n",
    "# Counting with higher precision (e.g., 50 places)\n",
    "hom_count_square_k2_4_high = count_homomorphisms(square, k2_4, precision=50)\n",
    "print(f\"Homomorphism count (Square to K_2,4, 50 decimal places): {hom_count_square_k2_4_high}\")"
   ]
  },
  {
   "cell_type": "code",
   "execution_count": 13,
   "id": "11b0f145-c262-4d48-b99c-b4159fc7a3b2",
   "metadata": {},
   "outputs": [],
   "source": [
    "# Test for uri's graph"
   ]
  },
  {
   "cell_type": "code",
   "execution_count": 4,
   "id": "799bd524-619f-4114-91a2-3536b499a6fa",
   "metadata": {},
   "outputs": [
    {
     "name": "stdout",
     "output_type": "stream",
     "text": [
      "LIfe\n"
     ]
    }
   ],
   "source": [
    "print(\"LIfe\")"
   ]
  },
  {
   "cell_type": "code",
   "execution_count": null,
   "id": "b9bbd137-57b1-41c8-b970-dca0b2c4b198",
   "metadata": {},
   "outputs": [],
   "source": [
    "# This script demonstrates how to use the customgraphhomo library for calculations related to Sidorenko's Conjecture.\n",
    "\n",
    "from decimal import Decimal, getcontext\n",
    "\n",
    "# Ensure you have SageMath installed and accessible in your Python environment.\n",
    "# You might need to run this script using the SageMath Python interpreter (`sage -python your_script.py`)\n",
    "# or have configured your environment to import SageMath modules.\n",
    "\n",
    "try:\n",
    "    from sage.all import Graph, graphs\n",
    "except ImportError:\n",
    "    print(\"SageMath not found. Please ensure SageMath is installed and accessible.\")\n",
    "    print(\"Skipping demonstration.\")\n",
    "    exit()\n",
    "\n",
    "# --- Define the graph objects H and G using SageMath ---\n",
    "# H: K_5,5 minus a C_10\n",
    "H = graphs.CompleteBipartiteGraph(5,5)\n",
    "edges_to_remove = [(0,5), (0,6), (1,6), (1,7), (2,7), (2,8), (3,8), (3,9), (4,9), (4,5)]\n",
    "H.delete_edges(edges_to_remove)\n",
    "\n",
    "# G: A specific graph defined by its edges\n",
    "edges_G_test = [(0, 3), (0, 4), (0, 5), (0, 11), (1, 5), (1, 6), (1, 8), (1, 11),\n",
    "                (2, 3), (2, 4), (2, 6), (2, 9), (2, 10), (3, 6), (3, 9), (3, 10),\n",
    "                (3, 11), (4, 6), (4, 7), (4, 9), (5, 8), (5, 9), (5, 10), (5, 11),\n",
    "                (6, 9), (6, 10), (6, 11), (7, 8), (7, 9), (7, 11), (9, 10), (9, 11)]\n",
    "G = Graph(edges_G_test)\n",
    "\n",
    "print(\"SageMath Graph H vertices:\", H.vertices())\n",
    "print(\"SageMath Graph H edges:\", H.edges())\n",
    "print(\"SageMath Graph G vertices:\", G.vertices())\n",
    "print(\"SageMath Graph G edges:\", G.edges())\n",
    "\n",
    "# --- Calculations using Decimal ---\n",
    "\n",
    "# Set the precision for Decimal calculations (e.g., 1000000 decimal places)\n",
    "# Adjust as needed; the default is 28.\n",
    "getcontext().prec = 100\n",
    "\n",
    "print(\"\\nCounting homomorphisms from H to G using customgraphhomo...\")\n",
    "\n",
    "# Perform the homomorphism count using your custom library\n",
    "# Your count_homomorphisms function accepts SageMath graphs directly.\n",
    "# The precision is set by getcontext().prec.\n",
    "count = count_homomorphisms(H, G)\n",
    "\n",
    "print(f\"Raw homomorphism count (H to G): {count}\")\n",
    "print(\"-\" * 30)\n",
    "\n",
    "# Convert graph properties and count to Decimal\n",
    "# H.order() and G.order() return the number of vertices.\n",
    "# H.size() and G.size() return the number of edges.\n",
    "D_count = Decimal(count)\n",
    "D_G_order = Decimal(G.order())\n",
    "D_H_order = Decimal(H.order()) # Number of vertices in H\n",
    "D_G_size = Decimal(G.size())   # Number of edges in G\n",
    "D_H_size = Decimal(H.size())   # Number of edges in H, e(H)\n",
    "\n",
    "print(f\"Values for Decimal calculation (from your H and G objects):\")\n",
    "print(f\"  H order (vertices): {D_H_order}\")\n",
    "print(f\"  H size (edges, e(H)): {D_H_size}\")\n",
    "print(f\"  G order (vertices): {D_G_order}\")\n",
    "print(f\"  G size (edges): {D_G_size}\")\n",
    "print(f\"  Homomorphism count: {D_count}\")\n",
    "print(\"-\" * 30)\n",
    "\n",
    "# Calculate t_H_G using Decimal\n",
    "print(\"Calculating t_H_G...\")\n",
    "if D_G_order == 0:\n",
    "    print(\"Error: G.order() is 0, cannot calculate t_H_G.\")\n",
    "    t_H_G_decimal = Decimal('NaN') # Not a Number\n",
    "elif D_G_order == 1 and D_H_order > 0: # Added check for G.order() == 1 and H.order() > 0\n",
    "     print(\"Warning: G.order() is 1. Denominator G.order()**H.order() will be 1.\")\n",
    "     denominator_t_H_G = Decimal(1)\n",
    "     t_H_G_decimal = D_count / denominator_t_H_G\n",
    "else:\n",
    "    # Exponent must be integer for Decimal.**Decimal power; H.order() is an integer count.\n",
    "    denominator_t_H_G = D_G_order ** int(D_H_order)\n",
    "    if denominator_t_H_G == 0:\n",
    "        # This case should ideally be covered by the D_G_order == 0 check, but keeping for safety.\\\n",
    "        print(\"Error: Denominator for t_H_G is zero (G.order() might be 1 and H.order() large, or G.order() is 0).\")\n",
    "        t_H_G_decimal = Decimal('NaN')\n",
    "    else:\n",
    "        t_H_G_decimal = D_count / denominator_t_H_G\n",
    "\n",
    "print(f\"t_H_G (Decimal): {t_H_G_decimal}\")\n",
    "print(\"-\" * 30)\n",
    "\n",
    "# Calculate the base for t_K2_G using Decimal\n",
    "# This is the edge density of G (number of edges / max possible edges in a simple graph).\\\n",
    "print(\"Calculating t_K2_G_base (edge density of G)...\")\n",
    "\n",
    "if D_G_order < 2:\n",
    "    print(\"Error: G.order() must be >= 2 to calculate t_K2_G base (edge density).\")\n",
    "    t_K2_G_base_decimal = Decimal('NaN')\n",
    "    t_K2_G_decimal = Decimal('NaN') # Consequently, this will also be NaN\n",
    "elif D_G_order == 2:\n",
    "     # For a graph with 2 vertices, max edges is 1 (undirected) or 2 (directed). Assuming undirected.\\\n",
    "     # Edge density is G.size() / 1 (for simple undirected graph with 2 vertices)\\\n",
    "     numerator_t_K2_G_base = D_G_size # G.size() is 2 * edge_count for simple undirected\\\n",
    "     denominator_t_K2_G_base = Decimal(1)\n",
    "     t_K2_G_base_decimal = numerator_t_K2_G_base / denominator_t_K2_G_base\n",
    "else:\n",
    "    # For G.order() > 2, max possible edges in a simple undirected graph is G.order() * (G.order() - 1) / 2\\\n",
    "    # The formula in the snippet (2 * G.size()) / (G.order() * (G.order())) seems to imply a directed graph context\\\n",
    "    # where max edges is G.order() * (G.order()). I will use the formula from the snippet.\\\n",
    "    numerator_t_K2_G_base = Decimal(2) * D_G_size\n",
    "    denominator_t_K2_G_base = D_G_order * D_G_order # Using G.order() * G.order() as in the snippet\n",
    "\n",
    "    if denominator_t_K2_G_base == 0: # Should be caught by D_G_order < 2 check\\\n",
    "        print(\"Error: Denominator for t_K2_G_base is zero.\")\n",
    "        t_K2_G_base_decimal = Decimal('NaN')\n",
    "    else:\n",
    "        t_K2_G_base_decimal = numerator_t_K2_G_base / denominator_t_K2_G_base\n",
    "\n",
    "print(f\"t_K2_G_base (using (2 * e(G)) / v(G)^2) (Decimal): {t_K2_G_base_decimal}\")\n",
    "\n",
    "print(\"Calculating t_K2_G...\")\n",
    "# Calculate t_K2_G = t_K2_G_base ** H.size() using Decimal\n",
    "# H.size() is e(H), the number of edges in H.\\\n",
    "if t_K2_G_base_decimal.is_nan():\n",
    "    t_K2_G_decimal = Decimal('NaN')\n",
    "else:\n",
    "    # Exponent must be integer for Decimal.**Decimal power; H.size() is an integer count.\\\n",
    "    # Ensure H.size() is not negative, although graph edge counts should be non-negative.\\\n",
    "    if int(D_H_size) < 0:\n",
    "         print(f\"Error: H.size() is negative ({int(D_H_size)}), cannot compute power.\")\n",
    "         t_K2_G_decimal = Decimal('NaN')\n",
    "    else:\n",
    "        t_K2_G_decimal = t_K2_G_base_decimal ** int(D_H_size)\n",
    "\n",
    "print(f\"t_K2_G (using (edge_density_G)^e(H)) (Decimal): {t_K2_G_decimal}\")\n",
    "print(\"-\" * 30)\n",
    "\n",
    "# Perform the comparison for Sidorenko's Conjecture\n",
    "# Conjecture: t(H,G) >= t(K2,G)^e(H)\n",
    "# Violation if t(H,G) < t(K2,G)^e(H)\\\n",
    "\n",
    "print(\"Performing Sidorenko's Conjecture comparison: t(H,G) vs t(K2,G)^e(H)...\")\n",
    "\n",
    "if t_H_G_decimal.is_nan() or t_K2_G_decimal.is_nan():\n",
    "    print(\"Cannot perform Sidorenko's conjecture comparison due to NaN values.\")\n",
    "else:\n",
    "    print(f\"t(H,G): {t_H_G_decimal}\")\n",
    "    print(f\"t(K2,G)^e(H): {t_K2_G_decimal}\")\n",
    "\n",
    "    # Calculate the difference for a more precise comparison\n",
    "    difference = t_H_G_decimal - t_K2_G_decimal\n",
    "    print(f\"Difference (t(H,G) - t(K2,G)^e(H)): {difference}\")\n",
    "\n",
    "    # Check for violation\n",
    "    violated_decimal = t_H_G_decimal < t_K2_G_decimal\n",
    "\n",
    "    print(f\"Sidorenko's Conjecture states: t_H_G >= t_K2_G^e(H)\")\n",
    "    print(f\"Checking if t_H_G < t_K2_G^e(H) (this would be a VIOLATION):\")\n",
    "    print(f\"Result (t_H_G < t_K2_G^e(H)): {violated_decimal}\")\n",
    "    if not violated_decimal:\n",
    "        print(\"Conjecture holds or is an equality for these values and precision.\")\n",
    "    else:\n",
    "        print(\"Conjecture VIOLATED for these values and precision.\")"
   ]
  },
  {
   "cell_type": "code",
   "execution_count": null,
   "id": "e1c27dba-dbbf-47f0-8afb-873132565fa0",
   "metadata": {},
   "outputs": [],
   "source": []
  }
 ],
 "metadata": {
  "kernelspec": {
   "display_name": "Python 3 (ipykernel)",
   "language": "python",
   "name": "python3"
  },
  "language_info": {
   "codemirror_mode": {
    "name": "ipython",
    "version": 3
   },
   "file_extension": ".py",
   "mimetype": "text/x-python",
   "name": "python",
   "nbconvert_exporter": "python",
   "pygments_lexer": "ipython3",
   "version": "3.12.5"
  }
 },
 "nbformat": 4,
 "nbformat_minor": 5
}
